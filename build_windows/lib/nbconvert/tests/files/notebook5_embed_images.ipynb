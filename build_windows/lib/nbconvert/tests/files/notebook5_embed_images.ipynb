version https://git-lfs.github.com/spec/v1
oid sha256:46d6c94d28464c58d4a444720c1023f4c03b7afcf22c845251852e8aa737bf68
size 938
